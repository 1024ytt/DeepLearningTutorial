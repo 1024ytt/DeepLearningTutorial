{
 "cells": [
  {
   "cell_type": "code",
   "execution_count": null,
   "metadata": {},
   "outputs": [],
   "source": [
    "from tensorflow.python.keras.utils import get_file\n",
    "import gzip\n",
    "import numpy as np\n",
    "import keras\n",
    "from keras.preprocessing.image import ImageDataGenerator\n",
    "from keras.models import Sequential, Model\n",
    "from keras.layers import Dense, Dropout, Activation, Flatten\n",
    "from keras.layers import Conv2D, MaxPooling2D\n",
    "import os\n",
    "from keras import applications\n",
    "import cv2\n",
    "import functools\n",
    "from keras.models import load_model\n",
    "import pandas as pd\n",
    "from sklearn.preprocessing import MinMaxScaler\n",
    "# os.environ[\"CUDA_VISIBLE_DEVICES\"] = \"1\"  # 使用第2个GPU"
   ]
  },
  {
   "cell_type": "code",
   "execution_count": 98,
   "metadata": {},
   "outputs": [],
   "source": [
    "def load_data():\n",
    "    paths = [\n",
    "        'train-labels-idx1-ubyte.gz', 'train-images-idx3-ubyte.gz',\n",
    "        't10k-labels-idx1-ubyte.gz', 't10k-images-idx3-ubyte.gz'\n",
    "    ]\n",
    "\n",
    "    with gzip.open(paths[0], 'rb') as lbpath:\n",
    "        y_train = np.frombuffer(lbpath.read(), np.uint8, offset=8)\n",
    "\n",
    "    with gzip.open(paths[1], 'rb') as imgpath:\n",
    "        x_train = np.frombuffer(\n",
    "            imgpath.read(), np.uint8, offset=16).reshape(len(y_train), 28, 28, 1)\n",
    "\n",
    "    with gzip.open(paths[2], 'rb') as lbpath:\n",
    "        y_test = np.frombuffer(lbpath.read(), np.uint8, offset=8)\n",
    "\n",
    "    with gzip.open(paths[3], 'rb') as imgpath:\n",
    "        x_test = np.frombuffer(\n",
    "            imgpath.read(), np.uint8, offset=16).reshape(len(y_test), 28, 28, 1)\n",
    "\n",
    "    return (x_train, y_train), (x_test, y_test)"
   ]
  },
  {
   "cell_type": "markdown",
   "metadata": {},
   "source": [
    "## 读取数据与数据预处理"
   ]
  },
  {
   "cell_type": "code",
   "execution_count": 99,
   "metadata": {},
   "outputs": [],
   "source": [
    " # read dataset\n",
    "(x_train, y_train), (x_test, y_test) = load_data()\n",
    "batch_size = 32\n",
    "epochs = 5\n",
    "data_augmentation = True  # 图像增强\n",
    "num_predictions = 20\n",
    "save_dir = os.path.join(os.getcwd(), 'saved_models_transfer_learning')\n",
    "model_name = 'keras_fashion_transfer_learning_trained_model.h5'\n",
    "\n",
    "\n",
    "# Convert class vectors to binary class matrices.  将类别弄成独热编码\n",
    "# y_train = keras.utils.to_categorical(y_train, num_classes)\n",
    "# y_test = keras.utils.to_categorical(y_test, num_classes)\n",
    "\n",
    "\n",
    "# x_train = x_train.astype('float32')\n",
    "# x_test = x_test.astype('float32')\n",
    "# 由于mist的输入数据维度是(num, 28, 28)，vgg16 需要三维图像,因为扩充一下mnist的最后一维\n",
    "X_train = [cv2.cvtColor(cv2.resize(i, (48, 48)), cv2.COLOR_GRAY2RGB) for i in x_train]\n",
    "X_test = [cv2.cvtColor(cv2.resize(i, (48, 48)), cv2.COLOR_GRAY2RGB) for i in x_test]\n",
    "\n",
    "x_train = np.asarray(X_train)\n",
    "x_test = np.asarray(X_test)\n",
    "\n",
    "x_train = x_train.astype('float32')\n",
    "x_test = x_test.astype('float32')\n",
    "\n",
    "x_train /= 255  # 归一化\n",
    "x_test /= 255  # 归一化"
   ]
  },
  {
   "cell_type": "markdown",
   "metadata": {},
   "source": [
    "## 伪造回归数据\n",
    "总共有10类衣服，他们每一类的价格设置规则如下：  \n",
    "以(45, 57, 85, 99, 125, 27, 180, 152, 225, 33)为每一类衣服的均值，以3为标准差，  \n",
    "利用正太分布小数点后两位的价格作为他们的衣服价格。"
   ]
  },
  {
   "cell_type": "code",
   "execution_count": 100,
   "metadata": {},
   "outputs": [
    {
     "name": "stdout",
     "output_type": "stream",
     "text": [
      "   label  price\n",
      "0      9  29.66\n",
      "1      0  45.15\n",
      "2      0  50.35\n",
      "3      3  99.19\n",
      "4      0  46.33\n",
      "-------------------\n",
      "   label   price\n",
      "0      9   32.51\n",
      "1      2   80.91\n",
      "2      1   56.77\n",
      "3      1   56.36\n",
      "4      6  181.70\n"
     ]
    }
   ],
   "source": [
    "# 转成DataFrame格式方便数据处理\n",
    "y_train_pd = pd.DataFrame(y_train)\n",
    "y_test_pd = pd.DataFrame(y_test)\n",
    "# 设置列名\n",
    "y_train_pd.columns = ['label'] \n",
    "y_test_pd.columns = ['label']\n",
    "\n",
    "# 给每一类衣服设置价格\n",
    "mean_value_list = [45, 57, 85, 99, 125, 27, 180, 152, 225, 33]  # 均值列表\n",
    "def setting_clothes_price(row):\n",
    "    price = sorted(np.random.normal(mean_value_list[int(row)], 3,size=1))[0] #均值mean,标准差std,数量\n",
    "    return np.round(price, 2)\n",
    "y_train_pd['price'] = y_train_pd['label'].apply(setting_clothes_price)\n",
    "y_test_pd['price'] = y_test_pd['label'].apply(setting_clothes_price)\n",
    "\n",
    "print(y_train_pd.head(5))\n",
    "print('-------------------')\n",
    "print(y_test_pd.head(5))"
   ]
  },
  {
   "cell_type": "markdown",
   "metadata": {},
   "source": [
    "## 数据归一化"
   ]
  },
  {
   "cell_type": "code",
   "execution_count": 115,
   "metadata": {},
   "outputs": [
    {
     "name": "stdout",
     "output_type": "stream",
     "text": [
      "60000\n",
      "10000\n"
     ]
    }
   ],
   "source": [
    "# y_train_price_pd = y_train_pd['price'].tolist()\n",
    "# y_test_price_pd = y_test_pd['price'].tolist()\n",
    "# 训练集归一化\n",
    "min_max_scaler = MinMaxScaler()\n",
    "min_max_scaler.fit(y_train_pd)\n",
    "y_train = min_max_scaler.transform(y_train_pd)[:, 1]\n",
    "\n",
    "# 验证集归一化\n",
    "min_max_scaler.fit(y_test_pd)\n",
    "y_test = min_max_scaler.transform(y_test_pd)[:, 1]\n",
    "y_test_label = min_max_scaler.transform(y_test_pd)[:, 0]  # 归一化后的标签\n",
    "print(len(y_train))\n",
    "print(len(y_test))"
   ]
  },
  {
   "cell_type": "markdown",
   "metadata": {},
   "source": [
    "## 迁移学习建模"
   ]
  },
  {
   "cell_type": "code",
   "execution_count": 102,
   "metadata": {},
   "outputs": [
    {
     "name": "stdout",
     "output_type": "stream",
     "text": [
      "(48, 48, 3)\n",
      "Tensor(\"block5_pool_6/MaxPool:0\", shape=(?, 1, 1, 512), dtype=float32)\n"
     ]
    }
   ],
   "source": [
    "# 使用VGG16模型\n",
    "base_model = applications.VGG16(include_top=False, weights='imagenet', input_shape=x_train.shape[1:])  # 第一层需要指出图像的大小\n",
    "\n",
    "# # path to the model weights files.\n",
    "# top_model_weights_path = 'bottleneck_fc_model.h5'\n",
    "print(x_train.shape[1:])\n",
    "model = Sequential()\n",
    "print(base_model.output)\n",
    "model.add(Flatten(input_shape=base_model.output_shape[1:]))\n",
    "model.add(Dense(256, activation='relu'))\n",
    "model.add(Dropout(0.5))\n",
    "model.add(Dense(1))\n",
    "model.add(Activation('linear'))\n",
    "\n",
    "# add the model on top of the convolutional base\n",
    "model = Model(inputs=base_model.input, outputs=model(base_model.output))  # VGG16模型与自己构建的模型合并\n",
    "\n",
    "# 保持VGG16的前15层权值不变，即在训练过程中不训练  \n",
    "for layer in model.layers[:15]:\n",
    "    layer.trainable = False\n",
    "\n",
    "# initiate RMSprop optimizer\n",
    "opt = keras.optimizers.rmsprop(lr=0.0001, decay=1e-6)\n",
    "\n",
    "# Let's train the model using RMSprop\n",
    "model.compile(loss='mse',\n",
    "              optimizer=opt,\n",
    "              )"
   ]
  },
  {
   "cell_type": "markdown",
   "metadata": {},
   "source": [
    "## 训练"
   ]
  },
  {
   "cell_type": "code",
   "execution_count": 103,
   "metadata": {},
   "outputs": [
    {
     "name": "stdout",
     "output_type": "stream",
     "text": [
      "Using real-time data augmentation.\n",
      "1875\n",
      "1875.0\n",
      "Epoch 1/5\n",
      "1875/1875 [==============================] - 1149s 613ms/step - loss: 0.0336 - val_loss: 0.0178\n",
      "Epoch 2/5\n",
      "1875/1875 [==============================] - 1805s 963ms/step - loss: 0.0183 - val_loss: 0.0146\n",
      "Epoch 3/5\n",
      "1875/1875 [==============================] - 2126s 1s/step - loss: 0.0162 - val_loss: 0.0140\n",
      "Epoch 4/5\n",
      "1875/1875 [==============================] - 2279s 1s/step - loss: 0.0151 - val_loss: 0.0145\n",
      "Epoch 5/5\n",
      "1875/1875 [==============================] - 2196s 1s/step - loss: 0.0144 - val_loss: 0.0136\n"
     ]
    }
   ],
   "source": [
    "if not data_augmentation:\n",
    "    print('Not using data augmentation.')\n",
    "    history = model.fit(x_train, y_train,\n",
    "              batch_size=batch_size,\n",
    "              epochs=epochs,\n",
    "              validation_data=(x_test, y_test),\n",
    "              shuffle=True)\n",
    "else:\n",
    "    print('Using real-time data augmentation.')\n",
    "    # This will do preprocessing and realtime data augmentation:\n",
    "    datagen = ImageDataGenerator(\n",
    "        featurewise_center=False,  # set input mean to 0 over the dataset\n",
    "        samplewise_center=False,  # set each sample mean to 0\n",
    "        featurewise_std_normalization=False,  # divide inputs by std of the dataset\n",
    "        samplewise_std_normalization=False,  # divide each input by its std\n",
    "        zca_whitening=False,  # apply ZCA whitening\n",
    "        zca_epsilon=1e-06,  # epsilon for ZCA whitening\n",
    "        rotation_range=0,  # randomly rotate images in the range (degrees, 0 to 180)\n",
    "        # randomly shift images horizontally (fraction of total width)\n",
    "        width_shift_range=0.1,\n",
    "        # randomly shift images vertically (fraction of total height)\n",
    "        height_shift_range=0.1,\n",
    "        shear_range=0.,  # set range for random shear\n",
    "        zoom_range=0.,  # set range for random zoom\n",
    "        channel_shift_range=0.,  # set range for random channel shifts\n",
    "        # set mode for filling points outside the input boundaries\n",
    "        fill_mode='nearest',\n",
    "        cval=0.,  # value used for fill_mode = \"constant\"\n",
    "        horizontal_flip=True,  # randomly flip images\n",
    "        vertical_flip=False,  # randomly flip images\n",
    "        # set rescaling factor (applied before any other transformation)\n",
    "        rescale=None,\n",
    "        # set function that will be applied on each input\n",
    "        preprocessing_function=None,\n",
    "        # image data format, either \"channels_first\" or \"channels_last\"\n",
    "        data_format=None,\n",
    "        # fraction of images reserved for validation (strictly between 0 and 1)\n",
    "        validation_split=0.0)\n",
    "\n",
    "    # Compute quantities required for feature-wise normalization\n",
    "    # (std, mean, and principal components if ZCA whitening is applied).\n",
    "    datagen.fit(x_train)\n",
    "    print(x_train.shape[0]//batch_size)  # 取整\n",
    "    print(x_train.shape[0]/batch_size)  # 保留小数\n",
    "    # Fit the model on the batches generated by datagen.flow().\n",
    "    history = model.fit_generator(datagen.flow(x_train, y_train,  # 按batch_size大小从x,y生成增强数据\n",
    "                                     batch_size=batch_size),  \n",
    "                        # flow_from_directory()从路径生成增强数据,和flow方法相比最大的优点在于不用\n",
    "                        # 一次将所有的数据读入内存当中,这样减小内存压，这样不会发生OOM\n",
    "                        epochs=epochs,\n",
    "                        steps_per_epoch=x_train.shape[0]//batch_size,\n",
    "                        validation_data=(x_test, y_test),\n",
    "                        workers=10  # 在使用基于进程的线程时，最多需要启动的进程数量。\n",
    "                       )"
   ]
  },
  {
   "cell_type": "markdown",
   "metadata": {},
   "source": [
    "## 模型可视化与保存模型"
   ]
  },
  {
   "cell_type": "code",
   "execution_count": 104,
   "metadata": {},
   "outputs": [
    {
     "name": "stdout",
     "output_type": "stream",
     "text": [
      "_________________________________________________________________\n",
      "Layer (type)                 Output Shape              Param #   \n",
      "=================================================================\n",
      "input_7 (InputLayer)         (None, 48, 48, 3)         0         \n",
      "_________________________________________________________________\n",
      "block1_conv1 (Conv2D)        (None, 48, 48, 64)        1792      \n",
      "_________________________________________________________________\n",
      "block1_conv2 (Conv2D)        (None, 48, 48, 64)        36928     \n",
      "_________________________________________________________________\n",
      "block1_pool (MaxPooling2D)   (None, 24, 24, 64)        0         \n",
      "_________________________________________________________________\n",
      "block2_conv1 (Conv2D)        (None, 24, 24, 128)       73856     \n",
      "_________________________________________________________________\n",
      "block2_conv2 (Conv2D)        (None, 24, 24, 128)       147584    \n",
      "_________________________________________________________________\n",
      "block2_pool (MaxPooling2D)   (None, 12, 12, 128)       0         \n",
      "_________________________________________________________________\n",
      "block3_conv1 (Conv2D)        (None, 12, 12, 256)       295168    \n",
      "_________________________________________________________________\n",
      "block3_conv2 (Conv2D)        (None, 12, 12, 256)       590080    \n",
      "_________________________________________________________________\n",
      "block3_conv3 (Conv2D)        (None, 12, 12, 256)       590080    \n",
      "_________________________________________________________________\n",
      "block3_pool (MaxPooling2D)   (None, 6, 6, 256)         0         \n",
      "_________________________________________________________________\n",
      "block4_conv1 (Conv2D)        (None, 6, 6, 512)         1180160   \n",
      "_________________________________________________________________\n",
      "block4_conv2 (Conv2D)        (None, 6, 6, 512)         2359808   \n",
      "_________________________________________________________________\n",
      "block4_conv3 (Conv2D)        (None, 6, 6, 512)         2359808   \n",
      "_________________________________________________________________\n",
      "block4_pool (MaxPooling2D)   (None, 3, 3, 512)         0         \n",
      "_________________________________________________________________\n",
      "block5_conv1 (Conv2D)        (None, 3, 3, 512)         2359808   \n",
      "_________________________________________________________________\n",
      "block5_conv2 (Conv2D)        (None, 3, 3, 512)         2359808   \n",
      "_________________________________________________________________\n",
      "block5_conv3 (Conv2D)        (None, 3, 3, 512)         2359808   \n",
      "_________________________________________________________________\n",
      "block5_pool (MaxPooling2D)   (None, 1, 1, 512)         0         \n",
      "_________________________________________________________________\n",
      "sequential_7 (Sequential)    (None, 1)                 131585    \n",
      "=================================================================\n",
      "Total params: 14,846,273\n",
      "Trainable params: 7,211,009\n",
      "Non-trainable params: 7,635,264\n",
      "_________________________________________________________________\n",
      "Saved trained model at /home/student/ChileWang/machine_learning_homework/question_one/saved_models_transfer_learning/keras_fashion_transfer_learning_trained_model.h5 \n"
     ]
    }
   ],
   "source": [
    "model.summary()\n",
    "# Save model and weights\n",
    "if not os.path.isdir(save_dir):\n",
    "    os.makedirs(save_dir)\n",
    "model_path = os.path.join(save_dir, model_name)\n",
    "model.save(model_path)\n",
    "print('Saved trained model at %s ' % model_path)"
   ]
  },
  {
   "cell_type": "markdown",
   "metadata": {},
   "source": [
    "## 训练过程可视化"
   ]
  },
  {
   "cell_type": "code",
   "execution_count": 106,
   "metadata": {},
   "outputs": [
    {
     "data": {
      "image/png": "[encoded data removed]",
      "text/plain": [
       "<Figure size 432x288 with 1 Axes>"
      ]
     },
     "metadata": {
      "needs_background": "light"
     },
     "output_type": "display_data"
    }
   ],
   "source": [
    "import matplotlib.pyplot as plt\n",
    "# 绘制训练 & 验证的损失值\n",
    "plt.plot(history.history['loss'])\n",
    "plt.plot(history.history['val_loss'])\n",
    "plt.title('Model loss')\n",
    "plt.ylabel('Loss')\n",
    "plt.xlabel('Epoch')\n",
    "plt.legend(['Train', 'Test'], loc='upper left')\n",
    "plt.show()"
   ]
  },
  {
   "cell_type": "markdown",
   "metadata": {},
   "source": [
    "## 模型的预测功能"
   ]
  },
  {
   "cell_type": "code",
   "execution_count": 116,
   "metadata": {},
   "outputs": [
    {
     "name": "stdout",
     "output_type": "stream",
     "text": [
      "[[  9.          36.39809359]\n",
      " [  2.          90.78814453]\n",
      " [  1.          58.21489228]\n",
      " ...\n",
      " [  8.         225.04189952]\n",
      " [  1.          58.29625367]\n",
      " [  5.         118.09064091]]\n"
     ]
    }
   ],
   "source": [
    "# 预测\n",
    "y_new = model.predict(x_test)\n",
    "# 反归一化\n",
    "min_max_scaler.fit(y_test_pd)\n",
    "y_pred_pd = pd.DataFrame({'label':list(y_test_label), 'price':list(y_new)})\n",
    "y_new = min_max_scaler.inverse_transform(y_pred_pd)"
   ]
  },
  {
   "cell_type": "markdown",
   "metadata": {},
   "source": [
    "## 真实值与预测值"
   ]
  },
  {
   "cell_type": "code",
   "execution_count": 120,
   "metadata": {},
   "outputs": [
    {
     "name": "stdout",
     "output_type": "stream",
     "text": [
      "    label   price  true_price\n",
      "0       9   32.51       32.51\n",
      "1       2   80.91       80.91\n",
      "2       1   56.77       56.77\n",
      "3       1   56.36       56.36\n",
      "4       6  181.70      181.70\n",
      "5       1   58.06       58.06\n",
      "6       4  127.31      127.31\n",
      "7       6  180.50      180.50\n",
      "8       5   27.21       27.21\n",
      "9       7  147.69      147.69\n",
      "10      4  123.40      123.40\n",
      "11      5   28.70       28.70\n",
      "12      7  153.20      153.20\n",
      "13      3   99.74       99.74\n",
      "14      4  117.12      117.12\n",
      "15      1   56.82       56.82\n",
      "16      2   84.18       84.18\n",
      "17      4  124.43      124.43\n",
      "18      8  221.80      221.80\n",
      "19      0   50.01       50.01\n"
     ]
    }
   ],
   "source": [
    "y_test_pd['true_price'] = pd.DataFrame(y_test_pd['price'])\n",
    "print(y_test_pd.head(20))"
   ]
  }
 ],
 "metadata": {
  "kernelspec": {
   "display_name": "Python 3",
   "language": "python",
   "name": "python3"
  },
  "language_info": {
   "codemirror_mode": {
    "name": "ipython",
    "version": 3
   },
   "file_extension": ".py",
   "mimetype": "text/x-python",
   "name": "python",
   "nbconvert_exporter": "python",
   "pygments_lexer": "ipython3",
   "version": "3.7.2"
  }
 },
 "nbformat": 4,
 "nbformat_minor": 2
}
