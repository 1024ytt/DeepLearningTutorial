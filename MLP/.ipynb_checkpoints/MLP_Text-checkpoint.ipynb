{
 "cells": [
  {
   "cell_type": "code",
   "execution_count": 5,
   "metadata": {},
   "outputs": [
    {
     "name": "stderr",
     "output_type": "stream",
     "text": [
      "Using TensorFlow backend.\n"
     ]
    }
   ],
   "source": [
    "import pandas as pd\n",
    "import jieba\n",
    "import jieba.analyse as analyse\n",
    "from keras.preprocessing.text import Tokenizer\n",
    "from keras.preprocessing import sequence\n",
    "from keras.models import Sequential\n",
    "from keras.layers import Dense, Dropout, Activation, Flatten, MaxPool1D, Conv1D\n",
    "from keras.layers.embeddings import Embedding\n",
    "from keras.utils import multi_gpu_model\n",
    "from keras.models import load_model\n",
    "from keras import regularizers  # 正则化\n",
    "import matplotlib.pyplot as plt\n",
    "import numpy as np\n",
    "from keras.utils import plot_model\n",
    "from sklearn.model_selection import train_test_split\n",
    "from keras.utils.np_utils import to_categorical\n",
    "from sklearn.preprocessing import LabelEncoder\n",
    "from keras.layers import BatchNormalization"
   ]
  },
  {
   "cell_type": "code",
   "execution_count": 8,
   "metadata": {},
   "outputs": [
    {
     "name": "stdout",
     "output_type": "stream",
     "text": [
      "  PositionType                                    Job_Description\n",
      "0         项目管理  \\r\\n  岗位职责：  \\r\\n 1 、熟练使用 axure,visio ，熟悉竞品分析，...\n",
      "1         项目管理  \\r\\n  岗位职责：  \\r\\n 1 、熟练使用 axure,visio ，熟悉竞品分析，...\n",
      "2         移动开发  \\r\\n 岗位职责： \\r\\n 1.负责安卓客户端应用的框架设计； \\r\\n 2.负责安卓客...\n",
      "3         移动开发  \\r\\n 现诚招资深iOS高级软件开发工程师一枚！ 【你的工作职责】 1、负责iPhone手...\n",
      "4         后端开发  \\r\\n 岗位职责： \\r\\n 1、基于海量交通信息数据的数据仓库建设、数据应用开发。 2、...\n",
      "['项目管理', '移动开发', '后端开发', '前端开发', '测试', '高端技术职位', '硬件开发', 'dba', '运维', '企业软件']\n"
     ]
    }
   ],
   "source": [
    "job_detail_pd = pd.read_csv('job_detail_dataset.csv', encoding='UTF-8')\n",
    "print(job_detail_pd.head(5))\n",
    "label = list(job_detail_pd['PositionType'].unique())  # 标签\n",
    "print(label)"
   ]
  },
  {
   "cell_type": "code",
   "execution_count": 9,
   "metadata": {},
   "outputs": [
    {
     "data": {
      "text/html": [
       "<div>\n",
       "<style scoped>\n",
       "    .dataframe tbody tr th:only-of-type {\n",
       "        vertical-align: middle;\n",
       "    }\n",
       "\n",
       "    .dataframe tbody tr th {\n",
       "        vertical-align: top;\n",
       "    }\n",
       "\n",
       "    .dataframe thead th {\n",
       "        text-align: right;\n",
       "    }\n",
       "</style>\n",
       "<table border=\"1\" class=\"dataframe\">\n",
       "  <thead>\n",
       "    <tr style=\"text-align: right;\">\n",
       "      <th></th>\n",
       "      <th>PositionType</th>\n",
       "      <th>Job_Description</th>\n",
       "      <th>label</th>\n",
       "    </tr>\n",
       "  </thead>\n",
       "  <tbody>\n",
       "    <tr>\n",
       "      <th>0</th>\n",
       "      <td>项目管理</td>\n",
       "      <td>\\r\\n  岗位职责：  \\r\\n 1 、熟练使用 axure,visio ，熟悉竞品分析，...</td>\n",
       "      <td>0</td>\n",
       "    </tr>\n",
       "    <tr>\n",
       "      <th>1</th>\n",
       "      <td>项目管理</td>\n",
       "      <td>\\r\\n  岗位职责：  \\r\\n 1 、熟练使用 axure,visio ，熟悉竞品分析，...</td>\n",
       "      <td>0</td>\n",
       "    </tr>\n",
       "    <tr>\n",
       "      <th>2</th>\n",
       "      <td>移动开发</td>\n",
       "      <td>\\r\\n 岗位职责： \\r\\n 1.负责安卓客户端应用的框架设计； \\r\\n 2.负责安卓客...</td>\n",
       "      <td>1</td>\n",
       "    </tr>\n",
       "    <tr>\n",
       "      <th>3</th>\n",
       "      <td>移动开发</td>\n",
       "      <td>\\r\\n 现诚招资深iOS高级软件开发工程师一枚！ 【你的工作职责】 1、负责iPhone手...</td>\n",
       "      <td>1</td>\n",
       "    </tr>\n",
       "    <tr>\n",
       "      <th>4</th>\n",
       "      <td>后端开发</td>\n",
       "      <td>\\r\\n 岗位职责： \\r\\n 1、基于海量交通信息数据的数据仓库建设、数据应用开发。 2、...</td>\n",
       "      <td>2</td>\n",
       "    </tr>\n",
       "  </tbody>\n",
       "</table>\n",
       "</div>"
      ],
      "text/plain": [
       "  PositionType                                    Job_Description  label\n",
       "0         项目管理  \\r\\n  岗位职责：  \\r\\n 1 、熟练使用 axure,visio ，熟悉竞品分析，...      0\n",
       "1         项目管理  \\r\\n  岗位职责：  \\r\\n 1 、熟练使用 axure,visio ，熟悉竞品分析，...      0\n",
       "2         移动开发  \\r\\n 岗位职责： \\r\\n 1.负责安卓客户端应用的框架设计； \\r\\n 2.负责安卓客...      1\n",
       "3         移动开发  \\r\\n 现诚招资深iOS高级软件开发工程师一枚！ 【你的工作职责】 1、负责iPhone手...      1\n",
       "4         后端开发  \\r\\n 岗位职责： \\r\\n 1、基于海量交通信息数据的数据仓库建设、数据应用开发。 2、...      2"
      ]
     },
     "execution_count": 9,
     "metadata": {},
     "output_type": "execute_result"
    }
   ],
   "source": [
    "# 上标签\n",
    "def label_dataset(row):\n",
    "    num_label = label.index(row)  # 返回label列表对应值的索引\n",
    "    return num_label\n",
    "\n",
    "job_detail_pd['label'] = job_detail_pd['PositionType'].apply(label_dataset)\n",
    "job_detail_pd = job_detail_pd.dropna()  # 删除空行\n",
    "job_detail_pd.head(5)"
   ]
  },
  {
   "cell_type": "code",
   "execution_count": 10,
   "metadata": {},
   "outputs": [
    {
     "name": "stderr",
     "output_type": "stream",
     "text": [
      "Building prefix dict from the default dictionary ...\n",
      "Loading model from cache /tmp/jieba.cache\n",
      "Loading model cost 1.418 seconds.\n",
      "Prefix dict has been built succesfully.\n"
     ]
    },
    {
     "data": {
      "text/html": [
       "<div>\n",
       "<style scoped>\n",
       "    .dataframe tbody tr th:only-of-type {\n",
       "        vertical-align: middle;\n",
       "    }\n",
       "\n",
       "    .dataframe tbody tr th {\n",
       "        vertical-align: top;\n",
       "    }\n",
       "\n",
       "    .dataframe thead th {\n",
       "        text-align: right;\n",
       "    }\n",
       "</style>\n",
       "<table border=\"1\" class=\"dataframe\">\n",
       "  <thead>\n",
       "    <tr style=\"text-align: right;\">\n",
       "      <th></th>\n",
       "      <th>PositionType</th>\n",
       "      <th>Job_Description</th>\n",
       "      <th>label</th>\n",
       "      <th>Job_Description_jieba_cut</th>\n",
       "    </tr>\n",
       "  </thead>\n",
       "  <tbody>\n",
       "    <tr>\n",
       "      <th>0</th>\n",
       "      <td>项目管理</td>\n",
       "      <td>\\r\\n  岗位职责：  \\r\\n 1 、熟练使用 axure,visio ，熟悉竞品分析，...</td>\n",
       "      <td>0</td>\n",
       "      <td>\\r\\n     岗位职责 ：     \\r\\n   1   、 熟练 使用   axure...</td>\n",
       "    </tr>\n",
       "    <tr>\n",
       "      <th>1</th>\n",
       "      <td>项目管理</td>\n",
       "      <td>\\r\\n  岗位职责：  \\r\\n 1 、熟练使用 axure,visio ，熟悉竞品分析，...</td>\n",
       "      <td>0</td>\n",
       "      <td>\\r\\n     岗位职责 ：     \\r\\n   1   、 熟练 使用   axure...</td>\n",
       "    </tr>\n",
       "    <tr>\n",
       "      <th>2</th>\n",
       "      <td>移动开发</td>\n",
       "      <td>\\r\\n 岗位职责： \\r\\n 1.负责安卓客户端应用的框架设计； \\r\\n 2.负责安卓客...</td>\n",
       "      <td>1</td>\n",
       "      <td>\\r\\n   岗位职责 ：   \\r\\n   1 . 负责 安卓 客户端 应用 的 框架 设...</td>\n",
       "    </tr>\n",
       "    <tr>\n",
       "      <th>3</th>\n",
       "      <td>移动开发</td>\n",
       "      <td>\\r\\n 现诚招资深iOS高级软件开发工程师一枚！ 【你的工作职责】 1、负责iPhone手...</td>\n",
       "      <td>1</td>\n",
       "      <td>\\r\\n   现 诚招 资深 iOS 高级 软件开发 工程师 一枚 ！   【 你 的 工作...</td>\n",
       "    </tr>\n",
       "    <tr>\n",
       "      <th>4</th>\n",
       "      <td>后端开发</td>\n",
       "      <td>\\r\\n 岗位职责： \\r\\n 1、基于海量交通信息数据的数据仓库建设、数据应用开发。 2、...</td>\n",
       "      <td>2</td>\n",
       "      <td>\\r\\n   岗位职责 ：   \\r\\n   1 、 基于 海量 交通 信息 数据 的 数据...</td>\n",
       "    </tr>\n",
       "  </tbody>\n",
       "</table>\n",
       "</div>"
      ],
      "text/plain": [
       "  PositionType                                    Job_Description  label  \\\n",
       "0         项目管理  \\r\\n  岗位职责：  \\r\\n 1 、熟练使用 axure,visio ，熟悉竞品分析，...      0   \n",
       "1         项目管理  \\r\\n  岗位职责：  \\r\\n 1 、熟练使用 axure,visio ，熟悉竞品分析，...      0   \n",
       "2         移动开发  \\r\\n 岗位职责： \\r\\n 1.负责安卓客户端应用的框架设计； \\r\\n 2.负责安卓客...      1   \n",
       "3         移动开发  \\r\\n 现诚招资深iOS高级软件开发工程师一枚！ 【你的工作职责】 1、负责iPhone手...      1   \n",
       "4         后端开发  \\r\\n 岗位职责： \\r\\n 1、基于海量交通信息数据的数据仓库建设、数据应用开发。 2、...      2   \n",
       "\n",
       "                           Job_Description_jieba_cut  \n",
       "0  \\r\\n     岗位职责 ：     \\r\\n   1   、 熟练 使用   axure...  \n",
       "1  \\r\\n     岗位职责 ：     \\r\\n   1   、 熟练 使用   axure...  \n",
       "2  \\r\\n   岗位职责 ：   \\r\\n   1 . 负责 安卓 客户端 应用 的 框架 设...  \n",
       "3  \\r\\n   现 诚招 资深 iOS 高级 软件开发 工程师 一枚 ！   【 你 的 工作...  \n",
       "4  \\r\\n   岗位职责 ：   \\r\\n   1 、 基于 海量 交通 信息 数据 的 数据...  "
      ]
     },
     "execution_count": 10,
     "metadata": {},
     "output_type": "execute_result"
    }
   ],
   "source": [
    "# 中文分词\n",
    "def chinese_word_cut(row):\n",
    "    return \" \".join(jieba.cut(row))\n",
    "\n",
    "job_detail_pd['Job_Description_jieba_cut'] = job_detail_pd.Job_Description.apply(chinese_word_cut)\n",
    "job_detail_pd.head(5)"
   ]
  },
  {
   "cell_type": "code",
   "execution_count": 11,
   "metadata": {},
   "outputs": [
    {
     "data": {
      "text/html": [
       "<div>\n",
       "<style scoped>\n",
       "    .dataframe tbody tr th:only-of-type {\n",
       "        vertical-align: middle;\n",
       "    }\n",
       "\n",
       "    .dataframe tbody tr th {\n",
       "        vertical-align: top;\n",
       "    }\n",
       "\n",
       "    .dataframe thead th {\n",
       "        text-align: right;\n",
       "    }\n",
       "</style>\n",
       "<table border=\"1\" class=\"dataframe\">\n",
       "  <thead>\n",
       "    <tr style=\"text-align: right;\">\n",
       "      <th></th>\n",
       "      <th>PositionType</th>\n",
       "      <th>Job_Description</th>\n",
       "      <th>label</th>\n",
       "      <th>Job_Description_jieba_cut</th>\n",
       "      <th>Job_Description_key_word</th>\n",
       "    </tr>\n",
       "  </thead>\n",
       "  <tbody>\n",
       "    <tr>\n",
       "      <th>0</th>\n",
       "      <td>项目管理</td>\n",
       "      <td>\\r\\n  岗位职责：  \\r\\n 1 、熟练使用 axure,visio ，熟悉竞品分析，...</td>\n",
       "      <td>0</td>\n",
       "      <td>\\r\\n     岗位职责 ：     \\r\\n   1   、 熟练 使用   axure...</td>\n",
       "      <td>互联网 体验 用户 产品 优先 运营 熟悉 电商 axure visio 竞品 O2O 岗位...</td>\n",
       "    </tr>\n",
       "    <tr>\n",
       "      <th>1</th>\n",
       "      <td>项目管理</td>\n",
       "      <td>\\r\\n  岗位职责：  \\r\\n 1 、熟练使用 axure,visio ，熟悉竞品分析，...</td>\n",
       "      <td>0</td>\n",
       "      <td>\\r\\n     岗位职责 ：     \\r\\n   1   、 熟练 使用   axure...</td>\n",
       "      <td>互联网 体验 用户 产品 优先 运营 熟悉 电商 axure visio 竞品 O2O 岗位...</td>\n",
       "    </tr>\n",
       "    <tr>\n",
       "      <th>2</th>\n",
       "      <td>移动开发</td>\n",
       "      <td>\\r\\n 岗位职责： \\r\\n 1.负责安卓客户端应用的框架设计； \\r\\n 2.负责安卓客...</td>\n",
       "      <td>1</td>\n",
       "      <td>\\r\\n   岗位职责 ：   \\r\\n   1 . 负责 安卓 客户端 应用 的 框架 设...</td>\n",
       "      <td>Android 安卓 java 客户端 能力 编程 具备 应用 良好 开发 优先 测试人员 ...</td>\n",
       "    </tr>\n",
       "    <tr>\n",
       "      <th>3</th>\n",
       "      <td>移动开发</td>\n",
       "      <td>\\r\\n 现诚招资深iOS高级软件开发工程师一枚！ 【你的工作职责】 1、负责iPhone手...</td>\n",
       "      <td>1</td>\n",
       "      <td>\\r\\n   现 诚招 资深 iOS 高级 软件开发 工程师 一枚 ！   【 你 的 工作...</td>\n",
       "      <td>iOS 开发 应用 技术 素质 用户 适配 平台 iPhone iPad 专业本科 编写程序...</td>\n",
       "    </tr>\n",
       "    <tr>\n",
       "      <th>4</th>\n",
       "      <td>后端开发</td>\n",
       "      <td>\\r\\n 岗位职责： \\r\\n 1、基于海量交通信息数据的数据仓库建设、数据应用开发。 2、...</td>\n",
       "      <td>2</td>\n",
       "      <td>\\r\\n   岗位职责 ：   \\r\\n   1 、 基于 海量 交通 信息 数据 的 数据...</td>\n",
       "      <td>数据仓库 Hadoop Hive Hbase 开发 数据 优先 交通 经验 应用 相关 智能...</td>\n",
       "    </tr>\n",
       "  </tbody>\n",
       "</table>\n",
       "</div>"
      ],
      "text/plain": [
       "  PositionType                                    Job_Description  label  \\\n",
       "0         项目管理  \\r\\n  岗位职责：  \\r\\n 1 、熟练使用 axure,visio ，熟悉竞品分析，...      0   \n",
       "1         项目管理  \\r\\n  岗位职责：  \\r\\n 1 、熟练使用 axure,visio ，熟悉竞品分析，...      0   \n",
       "2         移动开发  \\r\\n 岗位职责： \\r\\n 1.负责安卓客户端应用的框架设计； \\r\\n 2.负责安卓客...      1   \n",
       "3         移动开发  \\r\\n 现诚招资深iOS高级软件开发工程师一枚！ 【你的工作职责】 1、负责iPhone手...      1   \n",
       "4         后端开发  \\r\\n 岗位职责： \\r\\n 1、基于海量交通信息数据的数据仓库建设、数据应用开发。 2、...      2   \n",
       "\n",
       "                           Job_Description_jieba_cut  \\\n",
       "0  \\r\\n     岗位职责 ：     \\r\\n   1   、 熟练 使用   axure...   \n",
       "1  \\r\\n     岗位职责 ：     \\r\\n   1   、 熟练 使用   axure...   \n",
       "2  \\r\\n   岗位职责 ：   \\r\\n   1 . 负责 安卓 客户端 应用 的 框架 设...   \n",
       "3  \\r\\n   现 诚招 资深 iOS 高级 软件开发 工程师 一枚 ！   【 你 的 工作...   \n",
       "4  \\r\\n   岗位职责 ：   \\r\\n   1 、 基于 海量 交通 信息 数据 的 数据...   \n",
       "\n",
       "                            Job_Description_key_word  \n",
       "0  互联网 体验 用户 产品 优先 运营 熟悉 电商 axure visio 竞品 O2O 岗位...  \n",
       "1  互联网 体验 用户 产品 优先 运营 熟悉 电商 axure visio 竞品 O2O 岗位...  \n",
       "2  Android 安卓 java 客户端 能力 编程 具备 应用 良好 开发 优先 测试人员 ...  \n",
       "3  iOS 开发 应用 技术 素质 用户 适配 平台 iPhone iPad 专业本科 编写程序...  \n",
       "4  数据仓库 Hadoop Hive Hbase 开发 数据 优先 交通 经验 应用 相关 智能...  "
      ]
     },
     "execution_count": 11,
     "metadata": {},
     "output_type": "execute_result"
    }
   ],
   "source": [
    "# 提取关键词\n",
    "def key_word_extract(texts):\n",
    "    return \" \".join(analyse.extract_tags(texts, topK=50, withWeight=False, allowPOS=()))\n",
    "job_detail_pd['Job_Description_key_word'] = job_detail_pd.Job_Description.apply(key_word_extract)\n",
    "job_detail_pd.head(5)"
   ]
  },
  {
   "cell_type": "markdown",
   "metadata": {},
   "source": [
    "## 训练全过程\n",
    "步骤1：读取数据集；\n",
    "\n",
    "步骤2：建立token字典；\n",
    "\n",
    "步骤3：使用token字典将“文字”转化为“数字列表”\n",
    "\n",
    "步骤4：截长补短让所有“数字列表”长度都是100\n",
    "\n",
    "步骤5：Embedding层将“数字列表”转化为\"向量列表\"；\n",
    "\n",
    "步骤6：将向量列表送入深度学习模型进行训练"
   ]
  },
  {
   "cell_type": "code",
   "execution_count": null,
   "metadata": {},
   "outputs": [],
   "source": [
    "# 建立2000个词的字典\n",
    "token = Tokenizer(num_words = 2000) \n",
    "token.fit_on_texts(job_detail_pd['Job_Description_key_word']) #按单词出现次数排序，排序前2000的单词会列入词典中"
   ]
  },
  {
   "cell_type": "code",
   "execution_count": null,
   "metadata": {},
   "outputs": [],
   "source": [
    "print(token.document_count)  # 查看token读了多少文章\n",
    "print(token.word_index)  # 查看token读了多少文章"
   ]
  },
  {
   "cell_type": "code",
   "execution_count": null,
   "metadata": {},
   "outputs": [],
   "source": [
    "# 使用token字典将“文字”转化为“数字列表”\n",
    "Job_Description_Seq = token.texts_to_sequences(job_detail_pd['Job_Description_key_word'])"
   ]
  },
  {
   "cell_type": "code",
   "execution_count": null,
   "metadata": {},
   "outputs": [],
   "source": [
    "# 截长补短让所有“数字列表”长度都是50\n",
    "Job_Description_Seq_Padding = sequence.pad_sequences(Job_Description_Seq, maxlen=50)\n",
    "\n",
    "x_train = Job_Description_Seq_Padding\n",
    "y_train = job_detail_pd['label'].tolist()"
   ]
  },
  {
   "cell_type": "code",
   "execution_count": null,
   "metadata": {},
   "outputs": [],
   "source": [
    "y_train_one_hot_encoded = pd.get_dummies(job_detail_pd['label'], sparse = True)\n",
    "print(y_train_one_hot_encoded)"
   ]
  },
  {
   "cell_type": "markdown",
   "metadata": {},
   "source": [
    "## 开始训练MLP"
   ]
  },
  {
   "cell_type": "code",
   "execution_count": null,
   "metadata": {},
   "outputs": [],
   "source": [
    "batch_size = 256\n",
    "epochs = 5\n",
    "model = Sequential()\n",
    "model.add(Embedding(output_dim = 32,  # 词向量的维度\n",
    "                    input_dim = 2000,  # Size of the vocabulary 字典大小\n",
    "                    input_length = 50  # 每个数字列表的长度\n",
    "                   )  \n",
    "         )\n",
    "\n",
    "model.add(Dropout(0.2)) \n",
    "model.add(Flatten())  # 平展\n",
    "model.add(Dense(units = 256,\n",
    "                activation = \"relu\"))\n",
    "model.add(Dropout(0.25))\n",
    "model.add(Dense(units = 10,\n",
    "                activation = \"softmax\"))\n",
    "\n",
    "print(model.summary())  # 打印模型\n",
    "# CPU版本\n",
    "model.compile(loss = \"sparse_categorical_crossentropy\",  # 多分类\n",
    "            optimizer = \"adam\",\n",
    "            metrics = [\"accuracy\"]\n",
    "             )\n",
    "\n",
    "history = model.fit(\n",
    "        x_train, \n",
    "        y_train, \n",
    "        batch_size = batch_size,\n",
    "        epochs = epochs,\n",
    "        verbose = 2,\n",
    "        validation_split = 0.2  # 训练集的20%用作验证集\n",
    ")\n",
    "\n",
    "# GPU版本\n",
    "\"\"\"\n",
    "                       如果你的 label 是 one-hot 编码，用 categorical_crossentropy\n",
    "                       one-hot 编码：[0, 0, 1], [1, 0, 0], [0, 1, 0]\n",
    "                       如果你的 tagets 是 数字编码 ，用 sparse_categorical_crossentropy\n",
    "                       数字编码：2, 0, 1\n",
    " \"\"\"\n",
    "# parallel_model = multi_gpu_model(model, gpus=4)\n",
    "# parallel_model.compile(loss='sparse_categorical_crossentropy',  # 多分类     \n",
    "#                        optimizer='adam',\n",
    "#                        metrics=['accuracy']\n",
    "#                       )\n",
    "\n",
    "# This `fit` call will be distributed on 4 GPUs.\n",
    "# Since the batch size is 50, each GPU will process 32 samples.\n",
    "# batch_size = 512\n",
    "# epochs = 2\n",
    "# history = parallel_model.fit(\n",
    "#           x_train, \n",
    "#           y_train,\n",
    "#           batch_size=batch_size,\n",
    "#           epochs=epochs,\n",
    "#           validation_split = 0.2\n",
    "#         )\n",
    "\n"
   ]
  },
  {
   "cell_type": "markdown",
   "metadata": {},
   "source": [
    "## 保存模型 & 模型可视化"
   ]
  },
  {
   "cell_type": "code",
   "execution_count": null,
   "metadata": {},
   "outputs": [],
   "source": [
    "from keras.utils import plot_model\n",
    "# 保存模型\n",
    "model.save('model_MLP_text.h5')  # creates a HDF5 file 'my_model.h5'\n",
    "# 模型可视化\n",
    "plot_model(model, to_file='model_MLP_text.png', show_shapes=True)"
   ]
  },
  {
   "cell_type": "markdown",
   "metadata": {},
   "source": [
    "## 模型的预测功能"
   ]
  },
  {
   "cell_type": "code",
   "execution_count": null,
   "metadata": {},
   "outputs": [],
   "source": [
    "from keras.models import load_model\n",
    "# 加载模型\n",
    "model = load_model('model_MLP_text.h5')\n",
    "y_new = model.predict(x_train[0])\n",
    "print(y_new)\n",
    "print(y_train[0])"
   ]
  },
  {
   "cell_type": "markdown",
   "metadata": {},
   "source": [
    "## 训练可视化"
   ]
  },
  {
   "cell_type": "code",
   "execution_count": null,
   "metadata": {},
   "outputs": [],
   "source": [
    "import matplotlib.pyplot as plt\n",
    "# 绘制训练 & 验证的准确率值\n",
    "plt.plot(history.history['acc'])\n",
    "plt.plot(history.history['val_acc'])\n",
    "plt.title('Model accuracy')\n",
    "plt.ylabel('Accuracy')\n",
    "plt.xlabel('Epoch')\n",
    "plt.legend(['Train', 'Valid'], loc='upper left')\n",
    "plt.show()\n",
    "\n",
    "# 绘制训练 & 验证的损失值\n",
    "plt.plot(history.history['loss'])\n",
    "plt.plot(history.history['val_loss'])\n",
    "plt.title('Model loss')\n",
    "plt.ylabel('Loss')\n",
    "plt.xlabel('Epoch')\n",
    "plt.legend(['Train', 'Valid'], loc='upper left')\n",
    "plt.show()"
   ]
  }
 ],
 "metadata": {
  "kernelspec": {
   "display_name": "Python 3",
   "language": "python",
   "name": "python3"
  },
  "language_info": {
   "codemirror_mode": {
    "name": "ipython",
    "version": 3
   },
   "file_extension": ".py",
   "mimetype": "text/x-python",
   "name": "python",
   "nbconvert_exporter": "python",
   "pygments_lexer": "ipython3",
   "version": "3.7.2"
  }
 },
 "nbformat": 4,
 "nbformat_minor": 2
}
