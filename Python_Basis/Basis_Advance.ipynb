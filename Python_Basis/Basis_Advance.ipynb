{
 "cells": [
  {
   "cell_type": "markdown",
   "metadata": {},
   "source": [
    "## Python基础教学代码---进阶篇  \n",
    "1.循环  \n",
    "2.条件语句:if  \n",
    "3.定义函数:def  \n",
    "4.文件I/O  \n",
    "5.异常处理\n",
    "6.导包\n",
    "***"
   ]
  },
  {
   "cell_type": "markdown",
   "metadata": {},
   "source": [
    "## 1.循环  \n",
    "两种循环：  \n",
    "1.1for 循环  \n",
    "1.2while  循环  "
   ]
  },
  {
   "cell_type": "markdown",
   "metadata": {},
   "source": [
    "### for 循环打印List（列表）"
   ]
  },
  {
   "cell_type": "code",
   "execution_count": 5,
   "metadata": {},
   "outputs": [
    {
     "name": "stdout",
     "output_type": "stream",
     "text": [
      "第1种循环取值方式:直接取值\n",
      "Chile\n",
      "b\n",
      "c\n",
      "--------------------------\n",
      "第2种循环取值方式:索引取值\n",
      "Chile\n",
      "b\n",
      "c\n"
     ]
    }
   ],
   "source": [
    "str_list = ['Chile', 'b', 'c']\n",
    "\n",
    "print('第1种循环取值方式:直接取值')\n",
    "for sub_str in str_list:\n",
    "    print(sub_str)\n",
    "\n",
    "print('--------------------------')\n",
    "print('第2种循环取值方式:索引取值')   \n",
    "for i in range(len(str_list)):\n",
    "    print(str_list[i])"
   ]
  },
  {
   "cell_type": "markdown",
   "metadata": {},
   "source": [
    "### while 循环打印List（列表）"
   ]
  },
  {
   "cell_type": "code",
   "execution_count": 8,
   "metadata": {},
   "outputs": [
    {
     "name": "stdout",
     "output_type": "stream",
     "text": [
      "Chile\n",
      "b\n",
      "c\n"
     ]
    }
   ],
   "source": [
    "str_list = ['Chile', 'b', 'c']\n",
    "i = 0\n",
    "while i < len(str_list):\n",
    "    print(str_list[i])\n",
    "    i += 1\n"
   ]
  },
  {
   "cell_type": "markdown",
   "metadata": {},
   "source": [
    "### for 循环打印Tuple（元组）"
   ]
  },
  {
   "cell_type": "code",
   "execution_count": 10,
   "metadata": {},
   "outputs": [
    {
     "name": "stdout",
     "output_type": "stream",
     "text": [
      "第1种循环取值方式:直接取值\n",
      "chile\n",
      "111\n",
      "2.2\n",
      "a\n",
      "['Chile', 'b', 'c']\n",
      "--------------------------\n",
      "第2种循环取值方式:索引取值\n",
      "chile\n",
      "111\n",
      "2.2\n",
      "a\n",
      "['Chile', 'b', 'c']\n"
     ]
    }
   ],
   "source": [
    "str_list = ['Chile', 'b', 'c']\n",
    "mix_tuple = ('chile', 111, 2.2, 'a', str_list)  # 不可赋值\n",
    "print('第1种循环取值方式:直接取值')\n",
    "for sub_tuple in mix_tuple:\n",
    "    print(sub_tuple)\n",
    "\n",
    "print('--------------------------')\n",
    "print('第2种循环取值方式:索引取值')   \n",
    "for i in range(len(mix_tuple)):\n",
    "    print(mix_tuple[i])"
   ]
  },
  {
   "cell_type": "markdown",
   "metadata": {},
   "source": [
    "### while 循环打印Tuple（元组）"
   ]
  },
  {
   "cell_type": "code",
   "execution_count": 13,
   "metadata": {},
   "outputs": [
    {
     "name": "stdout",
     "output_type": "stream",
     "text": [
      "chile\n",
      "111\n",
      "2.2\n",
      "a\n",
      "['Chile', 'b', 'c']\n"
     ]
    }
   ],
   "source": [
    "str_list = ['Chile', 'b', 'c']\n",
    "mix_tuple = ('chile', 111, 2.2, 'a', str_list)  # 不可赋值\n",
    "i = 0\n",
    "while i < len(mix_tuple):\n",
    "    print(mix_tuple[i])\n",
    "    i += 1"
   ]
  },
  {
   "cell_type": "markdown",
   "metadata": {},
   "source": [
    "### for 循环打印Dictionary（字典）"
   ]
  },
  {
   "cell_type": "code",
   "execution_count": 15,
   "metadata": {},
   "outputs": [
    {
     "name": "stdout",
     "output_type": "stream",
     "text": [
      "key: name\n",
      "value: Chile\n",
      "-------------\n",
      "key: age\n",
      "value: 18\n",
      "-------------\n",
      "key: num_list\n",
      "value: [1, 2, 3, 4]\n",
      "-------------\n",
      "key: tuple\n",
      "value: ('chile', 111, 2.2, 'a', ['Chile', 'b', 'c'])\n",
      "-------------\n"
     ]
    }
   ],
   "source": [
    "str_list = ['Chile', 'b', 'c']\n",
    "mix_tuple = ('chile', 111, 2.2, 'a', str_list)  # 不可赋值\n",
    "num_list = [1, 2, 3, 4]\n",
    "test_dict = {'name': 'Chile', 'age': 18, 'num_list': num_list, 'tuple': mix_tuple}\n",
    "for key in test_dict.keys():  # 键值对打印法\n",
    "    print('key:', key)\n",
    "    print('value:', test_dict[key])\n",
    "    print('-------------')\n",
    "    "
   ]
  },
  {
   "cell_type": "markdown",
   "metadata": {},
   "source": [
    "### for 循环打印Set（元组）"
   ]
  },
  {
   "cell_type": "code",
   "execution_count": 22,
   "metadata": {},
   "outputs": [
    {
     "name": "stdout",
     "output_type": "stream",
     "text": [
      "abc   <class 'str'>\n",
      "1   <class 'int'>\n",
      "1   <class 'str'>\n",
      "chile   <class 'str'>\n"
     ]
    }
   ],
   "source": [
    "test_set = {'abc', 1, 1, '1', 'chile'}  \n",
    "for value in test_set:\n",
    "    print(value, ' ', type(value))"
   ]
  },
  {
   "cell_type": "markdown",
   "metadata": {},
   "source": [
    "## 2.条件语句:if\n",
    "2.1 == : 恒等符号  \n",
    "2.2 != : 不等符号    \n",
    "2.3 > :大于号  \n",
    "2.4 < :小于号  \n",
    "2.5 >=:大于等于号  \n",
    "2.6 <=:小于等于号    \n",
    "2.7 and:与   \n",
    "2.8 or:或  \n",
    "2.9 not:非  "
   ]
  },
  {
   "cell_type": "code",
   "execution_count": 16,
   "metadata": {},
   "outputs": [
    {
     "name": "stdout",
     "output_type": "stream",
     "text": [
      "a != b\n"
     ]
    }
   ],
   "source": [
    "a = 1  # 数字\n",
    "b = '1'  # 字符串\n",
    "if a == b:\n",
    "    print('a == b')\n",
    "else:\n",
    "    print('a != b')"
   ]
  },
  {
   "cell_type": "code",
   "execution_count": 17,
   "metadata": {},
   "outputs": [
    {
     "name": "stdout",
     "output_type": "stream",
     "text": [
      "a < b\n"
     ]
    }
   ],
   "source": [
    "a = 1\n",
    "b = 2\n",
    "if a > b:\n",
    "    print('a > b')\n",
    "elif a < b:\n",
    "    print('a < b')\n",
    "else:\n",
    "    print('a == b')"
   ]
  },
  {
   "cell_type": "code",
   "execution_count": 23,
   "metadata": {},
   "outputs": [
    {
     "name": "stdout",
     "output_type": "stream",
     "text": [
      "False\n",
      "True\n",
      "True\n"
     ]
    }
   ],
   "source": [
    "a = True\n",
    "b = False\n",
    "if a and b:\n",
    "    print('True')\n",
    "else:\n",
    "    print('False')\n",
    "    \n",
    "if a or b:\n",
    "    print('True')\n",
    "else:\n",
    "    print('False')\n",
    "\n",
    "if a and (not b):\n",
    "    print('True')\n",
    "else:\n",
    "    print('False')\n",
    "    "
   ]
  },
  {
   "cell_type": "markdown",
   "metadata": {},
   "source": [
    "## 3.定义函数:def"
   ]
  },
  {
   "cell_type": "markdown",
   "metadata": {},
   "source": [
    "### 有返回值,无参数"
   ]
  },
  {
   "cell_type": "code",
   "execution_count": 24,
   "metadata": {},
   "outputs": [
    {
     "data": {
      "text/plain": [
       "1"
      ]
     },
     "execution_count": 24,
     "metadata": {},
     "output_type": "execute_result"
    }
   ],
   "source": [
    "def print_value():\n",
    "    return 1\n",
    "print_value()  # 调用函数"
   ]
  },
  {
   "cell_type": "markdown",
   "metadata": {},
   "source": [
    "### 无返回值,无参数"
   ]
  },
  {
   "cell_type": "code",
   "execution_count": 26,
   "metadata": {},
   "outputs": [
    {
     "name": "stdout",
     "output_type": "stream",
     "text": [
      "Chile\n"
     ]
    }
   ],
   "source": [
    "def print_value():\n",
    "    print('Chile')\n",
    "print_value()  # 调用函数    "
   ]
  },
  {
   "cell_type": "markdown",
   "metadata": {},
   "source": [
    "### 无返回值,有参数"
   ]
  },
  {
   "cell_type": "code",
   "execution_count": 36,
   "metadata": {},
   "outputs": [
    {
     "name": "stdout",
     "output_type": "stream",
     "text": [
      "a < b\n",
      "a < b\n",
      "a < b\n"
     ]
    }
   ],
   "source": [
    "def print_value(a_test, b_test):\n",
    "    if a > b:\n",
    "        print('a > b')\n",
    "    elif a < b:\n",
    "        print('a < b')\n",
    "    else:\n",
    "        print('a == b')\n",
    "        \n",
    "# 三种调用方式        \n",
    "print_value(1, 2)  # 调用函数  \n",
    "\n",
    "a = 1\n",
    "b = 2\n",
    "print_value(a, b)  # 调用函数  \n",
    "\n",
    "print_value(a_test=1, b_test=2)  # 调用函数 "
   ]
  },
  {
   "cell_type": "markdown",
   "metadata": {},
   "source": [
    "### 有返回值,有参数"
   ]
  },
  {
   "cell_type": "code",
   "execution_count": 38,
   "metadata": {},
   "outputs": [
    {
     "name": "stdout",
     "output_type": "stream",
     "text": [
      "a < b\n",
      "a < b\n",
      "a < b\n"
     ]
    }
   ],
   "source": [
    "def print_value(a_test, b_test):\n",
    "    if a > b:\n",
    "        return 'a > b'\n",
    "    elif a < b:\n",
    "        return 'a < b'\n",
    "    else:\n",
    "        return 'a == b'\n",
    "        \n",
    "# 三种调用方式        \n",
    "print(print_value(1, 2))  # 调用函数  \n",
    "\n",
    "a = 1\n",
    "b = 2\n",
    "print(print_value(a, b))  # 调用函数  \n",
    "\n",
    "print(print_value(a_test=1, b_test=2))  # 调用函数 "
   ]
  }
 ],
 "metadata": {
  "kernelspec": {
   "display_name": "Python 3",
   "language": "python",
   "name": "python3"
  },
  "language_info": {
   "codemirror_mode": {
    "name": "ipython",
    "version": 3
   },
   "file_extension": ".py",
   "mimetype": "text/x-python",
   "name": "python",
   "nbconvert_exporter": "python",
   "pygments_lexer": "ipython3",
   "version": "3.7.3"
  }
 },
 "nbformat": 4,
 "nbformat_minor": 2
}
